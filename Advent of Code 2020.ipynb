{
 "cells": [
  {
   "cell_type": "markdown",
   "metadata": {},
   "source": [
    "### Day 1: Nested Loops"
   ]
  },
  {
   "cell_type": "code",
   "execution_count": 110,
   "metadata": {
    "scrolled": false
   },
   "outputs": [
    {
     "name": "stdout",
     "output_type": "stream",
     "text": [
      "651651\n",
      "214486272\n"
     ]
    }
   ],
   "source": [
    "PUZZLE_INPUT = list(map(int, open(\"C:\\\\Users\\\\Alfonso\\\\Desktop\\\\Coding\\\\Advent of Code 2020\\\\Day1_Data.txt\").read().split()))\n",
    "def Part1(file):\n",
    "    for index1 in range(len(PUZZLE_INPUT)):\n",
    "        for index2 in range(index1):\n",
    "            x = PUZZLE_INPUT[index1] \n",
    "            y = PUZZLE_INPUT[index2]\n",
    "            if x + y == 2020:\n",
    "                return(x*y)\n",
    "\n",
    "def Part2(file):\n",
    "    for index1 in range(len(PUZZLE_INPUT)):\n",
    "        for index2 in range(index1):\n",
    "            if PUZZLE_INPUT[index1] + PUZZLE_INPUT[index2] < 2020:\n",
    "                for index3 in range(index2):\n",
    "                    if (PUZZLE_INPUT[index1] + PUZZLE_INPUT[index2] + PUZZLE_INPUT[index3]) == 2020:\n",
    "                        return PUZZLE_INPUT[index1] * PUZZLE_INPUT[index2] * PUZZLE_INPUT[index3]\n",
    "\n",
    "print(Part1(PUZZLE_INPUT))  \n",
    "print(Part2(PUZZLE_INPUT))    "
   ]
  },
  {
   "cell_type": "markdown",
   "metadata": {},
   "source": [
    "### Day 2: XOR"
   ]
  },
  {
   "cell_type": "code",
   "execution_count": 111,
   "metadata": {
    "scrolled": true
   },
   "outputs": [
    {
     "name": "stdout",
     "output_type": "stream",
     "text": [
      "614\n",
      "354\n"
     ]
    }
   ],
   "source": [
    "FILE = open(\"C:/Users/Alfonso/Desktop/Coding/Advent of Code 2020/Day2_Data.txt\").read().splitlines()\n",
    "\n",
    "def Part1(file):\n",
    "    legal_passwords = 0\n",
    "    for line in file:\n",
    "        split1 = line.split(\"-\")\n",
    "        lower_value = int(split1[0])\n",
    "        split2 = split1[1].split(\" \")\n",
    "        higher_value = int(split2[0])\n",
    "        letter = split2[1].strip(\":\")\n",
    "        password = split2[2]\n",
    "        if lower_value <= password.count(letter) <= higher_value:\n",
    "            legal_passwords += 1\n",
    "    return legal_passwords\n",
    "\n",
    "def Part2(file):\n",
    "    legal_passwords = 0\n",
    "    for line in file:\n",
    "        split1 = line.split(\"-\")\n",
    "        first_number = int(split1[0])\n",
    "        split2 = split1[1].split(\" \")\n",
    "        second_number = int(split2[0])\n",
    "        letter = split2[1].strip(\":\")\n",
    "        password = split2[2]\n",
    "        if (password[first_number - 1] == letter) ^ (password[second_number - 1] == letter): # Using XOR, instead of and/or statements\n",
    "            legal_passwords += 1\n",
    "    return legal_passwords\n",
    "\n",
    "print(Part1(FILE))\n",
    "print(Part2(FILE))"
   ]
  },
  {
   "cell_type": "markdown",
   "metadata": {},
   "source": [
    "### Day 3"
   ]
  },
  {
   "cell_type": "code",
   "execution_count": 113,
   "metadata": {},
   "outputs": [
    {
     "name": "stdout",
     "output_type": "stream",
     "text": [
      "244\n",
      "9406609920\n"
     ]
    }
   ],
   "source": [
    "FILE = open(\"C:/Users/Alfonso/Desktop/Coding/Advent of Code 2020/Day3_Data.txt\").read().splitlines()\n",
    "\n",
    "def tobogan(track, right_move, down_move):\n",
    "    length_track, width_track = len(track), len(track[0])\n",
    "    row, pos_in_row = 0, 0\n",
    "    trees = 0\n",
    "    while row < length_track:\n",
    "        if track[row][pos_in_row] == \"#\":\n",
    "            trees += 1\n",
    "        row += down_move\n",
    "        pos_in_row = (pos_in_row + right_move) % width_track\n",
    "    return trees\n",
    "\n",
    "print(tobogan(FILE, 3, 1)) # Part 1 \n",
    "print(tobogan(FILE, 1, 1) * tobogan(FILE, 3, 1) * tobogan(FILE, 5, 1) * tobogan(FILE, 7, 1) * tobogan(FILE, 1, 2)) # Part 2 "
   ]
  },
  {
   "cell_type": "markdown",
   "metadata": {},
   "source": [
    "### Day 4: Dictionaries"
   ]
  },
  {
   "cell_type": "code",
   "execution_count": 13,
   "metadata": {
    "scrolled": true
   },
   "outputs": [
    {
     "name": "stdout",
     "output_type": "stream",
     "text": [
      "213\n",
      "147\n"
     ]
    }
   ],
   "source": [
    "FILE = open(\"C:/Users/Alfonso/Desktop/Coding/Advent of Code 2020/Day4_Data.txt\").read().split(\"\\n\\n\")\n",
    "\n",
    "required_fields = ['byr', 'iyr', 'eyr', 'hgt', 'hcl', 'ecl', 'pid']\n",
    "valid_eyecolors = [\"amb\", \"blu\", \"brn\", \"gry\", \"grn\", \"hzl\", \"oth\"]\n",
    "valid_haircolors = \"0123456789abcdef\"\n",
    "\n",
    "def Part1(file):\n",
    "    valid_passports = 0\n",
    "    for passport in file:\n",
    "        current_fields = 0\n",
    "        passport_field = [field.split(\":\")[0] for field in passport.split()]\n",
    "        for field in required_fields:\n",
    "            if field in passport_field:\n",
    "                current_fields += 1\n",
    "        if current_fields >= 7 :\n",
    "            valid_passports += 1\n",
    "    return valid_passports\n",
    "\n",
    "def Part2(file):\n",
    "    valid_passports = 0\n",
    "    for passport in file:\n",
    "        passport_field = [field.split(\":\")[0] for field in passport.split()]\n",
    "        passport_field_value = [field.split(\":\")[1] for field in passport.split()]\n",
    "        passport_dictionary = dict(zip(passport_field,passport_field_value))\n",
    "        if all(key in passport_dictionary for key in required_fields):  \n",
    "            valid = True\n",
    "            if not (1920 <= int(passport_dictionary[\"byr\"]) <= 2002):\n",
    "                valid = False\n",
    "            if not (2010 <= int(passport_dictionary[\"iyr\"]) <= 2020):\n",
    "                valid = False\n",
    "            if not (2020 <= int(passport_dictionary[\"eyr\"]) <= 2030):\n",
    "                valid = False\n",
    "            if not ((passport_dictionary[\"hgt\"][-2:] == \"cm\" and 150 <= int(passport_dictionary[\"hgt\"][:-2]) <= 193) or (passport_dictionary[\"hgt\"][-2:] == \"in\" and 59 <= int(passport_dictionary[\"hgt\"][:-2]) <= 76)):\n",
    "                valid = False\n",
    "            if not(passport_dictionary[\"hcl\"][0] == \"#\" and len(passport_dictionary[\"hcl\"]) == 7 and(all(char in \"0123456789abcdef\" for char in passport_dictionary[\"hcl\"][1:]))):\n",
    "                    valid = False\n",
    "            if not (passport_dictionary[\"ecl\"] in valid_eyecolors):\n",
    "                valid = False\n",
    "            if not (len(passport_dictionary[\"pid\"]) == 9 and all(char in '0123456789' for char in passport_dictionary[\"pid\"])):\n",
    "                    valid = False\n",
    "            if valid:\n",
    "                valid_passports += 1\n",
    "    return valid_passports\n",
    "    \n",
    "print(Part1(FILE))\n",
    "print(Part2(FILE))"
   ]
  },
  {
   "cell_type": "markdown",
   "metadata": {},
   "source": [
    "### Day 5"
   ]
  },
  {
   "cell_type": "code",
   "execution_count": 114,
   "metadata": {},
   "outputs": [
    {
     "name": "stdout",
     "output_type": "stream",
     "text": [
      "938\n",
      "696\n"
     ]
    }
   ],
   "source": [
    "FILE = open(\"C:/Users/Alfonso/Desktop/Coding/Advent of Code 2020/Day5_Data.txt\").read().splitlines()\n",
    "\n",
    "def part1(file):\n",
    "    boarding_pass_list = []\n",
    "    for boarding_pass in file:\n",
    "        min_row, max_row = 0, 127\n",
    "        min_col, max_col = 0, 7\n",
    "        for char in boarding_pass:\n",
    "            if char == \"F\": #Lower half \n",
    "                max_row = (min_row + max_row) // 2 \n",
    "            elif char == \"B\": #Upper half\n",
    "                min_row = (min_row + max_row) // 2 + 1 # +1 is added in order to round up \n",
    "            elif char == \"L\": #Lower half  \n",
    "                max_col = (min_col + max_col) // 2\n",
    "            elif char == \"R\": #Upper Half\n",
    "                min_col = (min_col + max_col) // 2 + 1 # +1 is added in order to round up \n",
    "        boarding_pass_list.append(min_row * 8 + min_col)\n",
    "    return (boarding_pass_list)     \n",
    " \n",
    "def part2(file):\n",
    "    boarding_pass_list = part1(file)\n",
    "    min_seat_id, max_seat_id = min(boarding_pass_list), max(boarding_pass_list)\n",
    "    for seat_id in range(min_seat_id, max_seat_id):\n",
    "        if seat_id not in boarding_pass_list:\n",
    "            return seat_id\n",
    "        \n",
    "print(max(part1(FILE)))\n",
    "print(part2(FILE))"
   ]
  },
  {
   "cell_type": "markdown",
   "metadata": {},
   "source": [
    "### Day 6 "
   ]
  },
  {
   "cell_type": "code",
   "execution_count": 11,
   "metadata": {},
   "outputs": [
    {
     "name": "stdout",
     "output_type": "stream",
     "text": [
      "6947\n",
      "3398\n"
     ]
    }
   ],
   "source": [
    "FILE = open(\"C:/Users/Alfonso/Desktop/Coding/Advent of Code 2020/Day6_Data.txt\").read().strip().split(\"\\n\\n\")\n",
    "\n",
    "def part1(groups):\n",
    "    sum_of_yes = 0\n",
    "    for group in groups:\n",
    "        sum_of_yes += (len(set(group.replace(\"\\n\", \"\"))))\n",
    "    return sum_of_yes\n",
    "        \n",
    "def part2(groups):\n",
    "    sum_of_yes = 0\n",
    "    for group in groups:\n",
    "        group_dictionary = {}\n",
    "        for char in group:\n",
    "            if char not in group_dictionary:\n",
    "                group_dictionary[char] = 0\n",
    "            group_dictionary[char] += 1\n",
    "        group_size = len(group.split('\\n'))\n",
    "        for value in group_dictionary.values():\n",
    "            if value == group_size:\n",
    "                sum_of_yes += 1\n",
    "    return sum_of_yes\n",
    "        \n",
    "print(part1(FILE))\n",
    "print(part2(FILE))"
   ]
  },
  {
   "cell_type": "markdown",
   "metadata": {},
   "source": [
    "### Day 7: Recursion and set union"
   ]
  },
  {
   "cell_type": "code",
   "execution_count": null,
   "metadata": {},
   "outputs": [],
   "source": [
    "FILE = open(\"C:/Users/Alfonso/Desktop/Coding/Advent of Code 2020/Day7_Data.txt\").read().strip().splitlines()\n",
    "\n",
    "import collections\n",
    "\n",
    "def clean(line):\n",
    "    return line.replace(' bags', '').replace(' bag', '').replace('.', '').strip()\n",
    "\n",
    "def part1(FILE):\n",
    "    rules = collections.defaultdict(list)\n",
    "    for line in FILE:\n",
    "        left_split, right_split = line.split(\" contain \")[0],(line.split(\" contain \")[1])\n",
    "        holding_bag = clean(left_split)\n",
    "        if clean(right_split) != \"no other\": #Skips rules when no extra bags are contained\n",
    "            for rule in right_split.split(\",\"):\n",
    "                contained_bag = clean(rule[2:])\n",
    "                rules[contained_bag].append(holding_bag) #Dictionary updated: what colour bags can be held by other bags\n",
    "    return len(list_of_all_holders(rules,\"shiny gold\"))\n",
    "   \n",
    "def list_of_all_holders(dictionary, color):\n",
    "    result = set(dictionary[color])\n",
    "    for color in result:\n",
    "        result = result.union(list_holders(dictionary,color))\n",
    "    return result\n",
    "\n",
    "def part2(FILE):\n",
    "    rules = collections.defaultdict(list)\n",
    "    for line in FILE:\n",
    "        left_split, right_split = line.split(\" contain \")[0],(line.split(\" contain \")[1])\n",
    "        holding_bag = clean(left_split)\n",
    "        if clean(right_split) != \"no other\": #Skips rules when no extra bags are contained\n",
    "            for rule in right_split.split(\",\"):\n",
    "                contained_bag = clean(rule)\n",
    "                rules[holding_bag].append(contained_bag) #Dictionary updated: what colour bags can be held by other bags\n",
    "    return (count_bag_contents(rules, \"shiny gold\"))\n",
    "\n",
    "def count_bag_contents(dictionary, color):\n",
    "    total = 0\n",
    "    for bag in dictionary[color]:\n",
    "        number_of_bags = int(bag[0])\n",
    "        color = bag.split(maxsplit=1)[1]\n",
    "        total += number_of_bags * (count_bag_contents(dictionary, color) + 1)\n",
    "    return total\n",
    "        \n",
    "\n",
    "\n",
    "print(part1(FILE))   \n",
    "print(part2(FILE))"
   ]
  },
  {
   "cell_type": "markdown",
   "metadata": {},
   "source": [
    "### Day 8"
   ]
  },
  {
   "cell_type": "code",
   "execution_count": 222,
   "metadata": {},
   "outputs": [
    {
     "name": "stdout",
     "output_type": "stream",
     "text": [
      "(1262, False)\n",
      "1643\n"
     ]
    }
   ],
   "source": [
    "FILE = open(\"C:/Users/Alfonso/Desktop/Coding/Advent of Code 2020/Day8_Data.txt\").read().splitlines()\n",
    "\n",
    "instructions = []\n",
    "for line in FILE: #split the FILE into a list with each specific instruction as an entry\n",
    "    instructions.append(line.split())\n",
    "\n",
    "def part1(instructions):\n",
    "    set_of_already_used_instructions = set()\n",
    "    current_position, accumulator = 0 ,  0\n",
    "    terminated = False\n",
    "    while not terminated and current_position not in set_of_already_used_instructions:\n",
    "        command, value = instructions[current_position][0] , int(instructions[current_position][1])\n",
    "        set_of_already_used_instructions.add(current_position)\n",
    "        if command == \"jmp\":\n",
    "            current_position += value\n",
    "        elif command == \"nop\":\n",
    "            current_position += 1\n",
    "        elif command == \"acc\":\n",
    "            accumulator += value\n",
    "            current_position += 1\n",
    "        if current_position == len(instructions): #to check if current_position is the last line of code being run, used for solving Part2\n",
    "            terminated = True\n",
    "    return accumulator, terminated #returning terminated is required for the par2 code\n",
    "\n",
    "def part2(instructions):\n",
    "    for index in range(len(instructions)):\n",
    "        instructions_copy = instructions.copy() #creating copy of list to modify with new potential replaced values\n",
    "        if instructions[index][0] == \"jmp\":\n",
    "            instructions_copy[index] = (\"nop\", instructions[index][1])\n",
    "        if instructions[index][0] == \"nop\":\n",
    "            instructions_copy[index] = (\"jmp\", instructions[index][1])\n",
    "        accumulator, terminated = part1(instructions_copy)\n",
    "        if terminated == True:\n",
    "            break\n",
    "    return accumulator\n",
    "\n",
    "print(part1(instructions))\n",
    "print(part2(instructions))    "
   ]
  },
  {
   "cell_type": "markdown",
   "metadata": {},
   "source": [
    "### Day 9: Combinations"
   ]
  },
  {
   "cell_type": "code",
   "execution_count": 49,
   "metadata": {
    "scrolled": true
   },
   "outputs": [
    {
     "name": "stdout",
     "output_type": "stream",
     "text": [
      "1309761972\n",
      "177989832\n"
     ]
    }
   ],
   "source": [
    "FILE = list(map(int, open(\"C:\\\\Users\\\\Alfonso\\\\Desktop\\\\Coding\\\\Advent of Code 2020\\\\Day9_Data.txt\").read().splitlines()))\n",
    "from itertools import combinations \n",
    "\n",
    "def part1(FILE):\n",
    "    preamble_size = 25\n",
    "    for index in range(preamble_size, len(FILE)):\n",
    "        value = FILE[index]\n",
    "        preamble = FILE[index - preamble_size: index]\n",
    "        if not any(sum(x) == value for x in combinations(preamble,2)):\n",
    "            return value\n",
    "\n",
    "def part2(FILE):\n",
    "    invalid_num = part1(FILE)\n",
    "    for index in range(len(FILE)):\n",
    "        for value in range(index):\n",
    "            if sum(FILE[value:index]) == invalid_num:\n",
    "                return min(FILE[value:index]) + max(FILE[value:index])\n",
    "\n",
    "            \n",
    "print(part1(FILE))\n",
    "print(part2(FILE))"
   ]
  },
  {
   "cell_type": "markdown",
   "metadata": {},
   "source": [
    "### Day 10: Zipping Lists and Dynamic Programing"
   ]
  },
  {
   "cell_type": "code",
   "execution_count": 13,
   "metadata": {},
   "outputs": [
    {
     "name": "stdout",
     "output_type": "stream",
     "text": [
      "2590\n",
      "226775649501184\n"
     ]
    }
   ],
   "source": [
    "from collections import defaultdict\n",
    "\n",
    "FILE = list(map(int, open(\"C:\\\\Users\\\\Alfonso\\\\Desktop\\\\Coding\\\\Advent of Code 2020\\\\Day10_Data.txt\").read().splitlines()))\n",
    "FILE.sort() #sorting list in ascending order\n",
    "FILE.append(FILE[-1] + 3) #adding device's built-in adapter at end of the list\n",
    "FILE.insert(0,0) #adding charging effective joltage rating value(0) at start of the list\n",
    "\n",
    "def part1(FILE):\n",
    "    jolt1, jolt3 = 0, 0\n",
    "    for x,y in zip(FILE,FILE[1:]):\n",
    "        if x + 1 == y:\n",
    "            jolt1 += 1\n",
    "        elif x + 3 == y:\n",
    "            jolt3 += 1\n",
    "    return (jolt1 * jolt3)\n",
    "\n",
    "memory = {}\n",
    "# Using Dynamic programming: the number of ways to complete the adapter chain given the position you are cucrently at FILE[x]\n",
    "def part2(x):\n",
    "    if x == len(FILE)-1: # Ending the recursive loop when only 1 way to get to end of chain\n",
    "        return 1\n",
    "    if x in memory:\n",
    "        return memory[x]\n",
    "    count = 0\n",
    "    for y in range(x+1,len(FILE)):\n",
    "        if FILE[y] - FILE[x]<=3:\n",
    "            count += part2(y)\n",
    "    memory[x] = count\n",
    "    return count\n",
    "    \n",
    "print(part1(FILE))\n",
    "print(part2(0))"
   ]
  },
  {
   "cell_type": "markdown",
   "metadata": {},
   "source": [
    "### Day 11"
   ]
  },
  {
   "cell_type": "code",
   "execution_count": 7,
   "metadata": {},
   "outputs": [
    {
     "name": "stdout",
     "output_type": "stream",
     "text": [
      "2418\n",
      "2144\n"
     ]
    }
   ],
   "source": [
    "FILE = open(\"C:\\\\Users\\\\Alfonso\\\\Desktop\\\\Coding\\\\Advent of Code 2020\\\\Day11_Data.txt\").read().splitlines()\n",
    "\n",
    "def part1():\n",
    "    original_layout = {}\n",
    "    for x, row in enumerate(FILE):\n",
    "        for y, seat in enumerate(row):\n",
    "            original_layout[x,y] = seat\n",
    "    \n",
    "    layout = {}\n",
    "    while True:\n",
    "        for (x,y),seat in original_layout.items():\n",
    "            if seat == \".\":\n",
    "                layout[x,y] = \".\"\n",
    "            elif seat == \"L\":\n",
    "                adjacent = \"\"\n",
    "                for i in range(-1,2):\n",
    "                    for j in range(-1,2):\n",
    "                        if i == 0 and j == 0: #ignores seat in question \n",
    "                            continue\n",
    "                        adjacent += original_layout.get((x + i , y + j),\".\")\n",
    "                occupied = adjacent.count(\"#\")\n",
    "                \n",
    "                if not occupied:\n",
    "                    layout[x,y] = \"#\"\n",
    "            \n",
    "            elif seat == \"#\":\n",
    "                adjacent = \"\"\n",
    "                for i in range(-1,2):\n",
    "                    for j in range(-1,2):\n",
    "                        if i == 0 and j == 0: #ignores seat in question \n",
    "                            continue\n",
    "                        adjacent += original_layout.get((x + i , y + j),\".\")\n",
    "                occupied = adjacent.count(\"#\")\n",
    "                \n",
    "                if occupied >= 4:\n",
    "                    layout[x,y] = \"L\"\n",
    "        \n",
    "        if layout == original_layout:\n",
    "            break\n",
    "        original_layout = {key: value for key, value in layout.items()}\n",
    "    \n",
    "    result = 0\n",
    "    for elem in layout.values():\n",
    "        if elem == \"#\":\n",
    "            result += 1\n",
    "    return result\n",
    "\n",
    "\n",
    "def part2():\n",
    "    original_layout = {}\n",
    "    for x, row in enumerate(FILE):\n",
    "        for y, seat in enumerate(row):\n",
    "            original_layout[x,y] = seat\n",
    "    \n",
    "    def check_occupied(r,c, direction):\n",
    "        while True:\n",
    "            r = r + direction[0]\n",
    "            c = c + direction[1]\n",
    "            try:\n",
    "                if original_layout[r,c] == \"#\":\n",
    "                    return 1\n",
    "                if original_layout[r,c] == \"L\":\n",
    "                    return 0\n",
    "            except KeyError: \n",
    "                return 0\n",
    "    \n",
    "    layout = {}   \n",
    "    while True:\n",
    "        for (x,y),seat in original_layout.items():\n",
    "            if seat == \".\":\n",
    "                layout[x,y] = \".\"\n",
    "            elif seat == \"L\":\n",
    "                occupied = 0\n",
    "                for i in range(-1,2):\n",
    "                    for j in range(-1,2):\n",
    "                        if i == 0 and j == 0: #ignores seat in question \n",
    "                            continue\n",
    "                        occupied += check_occupied(x, y,(i,j))\n",
    "                \n",
    "                if not occupied:\n",
    "                    layout[x,y] = \"#\"\n",
    "            \n",
    "            elif seat == \"#\":\n",
    "                occupied = 0\n",
    "                for i in range(-1,2):\n",
    "                    for j in range(-1,2):\n",
    "                        if i == 0 and j == 0: #ignores seat in question \n",
    "                            continue\n",
    "                        occupied += check_occupied(x, y,(i,j))\n",
    "                \n",
    "                if occupied >= 5:\n",
    "                    layout[x,y] = \"L\"\n",
    "        \n",
    "        if layout == original_layout:\n",
    "            break\n",
    "        original_layout = {key: value for key, value in layout.items()}\n",
    "    \n",
    "    result = 0\n",
    "    for elem in layout.values():\n",
    "        if elem == \"#\":\n",
    "            result += 1\n",
    "    return result\n",
    "\n",
    "print(part1())\n",
    "print(part2())"
   ]
  },
  {
   "cell_type": "markdown",
   "metadata": {},
   "source": [
    "### Day 12: Creating a grid using Dictionary"
   ]
  },
  {
   "cell_type": "code",
   "execution_count": 7,
   "metadata": {},
   "outputs": [
    {
     "name": "stdout",
     "output_type": "stream",
     "text": [
      "2057\n",
      "71504\n"
     ]
    }
   ],
   "source": [
    "FILE = open(\"C:\\\\Users\\\\Alfonso\\\\Desktop\\\\Coding\\\\Advent of Code 2020\\\\Day12_Data.txt\").read().splitlines()\n",
    "DIRS = {\"N\": (0,1), \"E\": (1,0), \"S\": (0,-1), \"W\": (-1,0)}\n",
    "ROTS = {0: (0,1), 90: (1,0), 180: (0,-1), 270: (-1,0)}\n",
    "\n",
    "def part1(FILE):\n",
    "    position = [0,0]\n",
    "    facing = 90\n",
    "    for instruction in FILE:\n",
    "        direction = instruction[:1]\n",
    "        value = int(instruction[1:])\n",
    "        if direction == \"F\":\n",
    "            x,y = ROTS[facing]\n",
    "            position[0] += x * value\n",
    "            position[1] += y * value\n",
    "        elif direction in \"RL\": \n",
    "            if direction == \"L\":\n",
    "                value= (0 - value)\n",
    "            facing = (facing + value) % 360\n",
    "        else:\n",
    "            x,y = DIRS[direction]\n",
    "            position[0] += x * value\n",
    "            position[1] += y * value\n",
    "    return abs(position[0]) + abs(position[1])\n",
    "\n",
    "def rotate_waypoint(waypoint, value):\n",
    "    waypoint_pos0 = waypoint[0]\n",
    "    if value == 90:\n",
    "        waypoint[0] = waypoint[1]\n",
    "        waypoint[1] = 0 - waypoint_pos0\n",
    "    if value == 180:\n",
    "        waypoint[0] = 0 - waypoint[0]\n",
    "        waypoint[1] = 0 - waypoint[1]\n",
    "    if value == 270:\n",
    "        waypoint[0] = 0 - waypoint[1]\n",
    "        waypoint[1] = waypoint_pos0\n",
    "\n",
    "def part2(FILE):\n",
    "    position = [0,0]\n",
    "    waypoint = [10,1]\n",
    "    for instruction in FILE:\n",
    "        direction = instruction[:1]\n",
    "        value = int(instruction[1:])\n",
    "        if direction == \"F\":\n",
    "            x,y = waypoint\n",
    "            position[0] += x * value\n",
    "            position[1] += y * value\n",
    "        elif direction in \"RL\":\n",
    "            if direction == \"L\":\n",
    "                value = (0 - value) % 360\n",
    "            rotate_waypoint(waypoint, value)\n",
    "        else:\n",
    "            x,y = DIRS[direction]\n",
    "            waypoint[0] += x * value\n",
    "            waypoint[1] += y * value\n",
    "    return abs(position[0]) + abs(position[1])\n",
    "      \n",
    "\n",
    "print(part1(FILE))\n",
    "print(part2(FILE))\n"
   ]
  },
  {
   "cell_type": "markdown",
   "metadata": {},
   "source": [
    "### Day 13"
   ]
  },
  {
   "cell_type": "code",
   "execution_count": 1,
   "metadata": {},
   "outputs": [
    {
     "data": {
      "text/plain": [
       "2406"
      ]
     },
     "execution_count": 1,
     "metadata": {},
     "output_type": "execute_result"
    }
   ],
   "source": [
    "FILE = open(\"C:\\\\Users\\\\Alfonso\\\\Desktop\\\\Coding\\\\Advent of Code 2020\\\\Day13_Data.txt\").read().split(\"\\n\")\n",
    "\n",
    "def part1():\n",
    "    current_time = int(FILE[0])\n",
    "    busses = set(FILE[1].split(\",\"))\n",
    "    busses.remove(\"x\")\n",
    "    bus_dict = {bus: (int(bus) - current_time % int(bus)) for bus in busses}\n",
    "    first_bus = min(bus_dict, key = bus_dict.get)\n",
    "    time_to_wait = bus_dict[first_bus]\n",
    "    return (int(first_bus) * time_to_wait)\n",
    "\n",
    "part1()\n"
   ]
  },
  {
   "cell_type": "markdown",
   "metadata": {},
   "source": [
    "### Day 14"
   ]
  },
  {
   "cell_type": "code",
   "execution_count": null,
   "metadata": {},
   "outputs": [],
   "source": []
  }
 ],
 "metadata": {
  "kernelspec": {
   "display_name": "Python 3",
   "language": "python",
   "name": "python3"
  },
  "language_info": {
   "codemirror_mode": {
    "name": "ipython",
    "version": 3
   },
   "file_extension": ".py",
   "mimetype": "text/x-python",
   "name": "python",
   "nbconvert_exporter": "python",
   "pygments_lexer": "ipython3",
   "version": "3.7.6"
  }
 },
 "nbformat": 4,
 "nbformat_minor": 4
}
